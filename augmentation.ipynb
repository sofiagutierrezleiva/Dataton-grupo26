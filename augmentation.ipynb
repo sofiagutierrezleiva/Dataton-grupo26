{
 "cells": [
  {
   "cell_type": "code",
   "execution_count": 19,
   "metadata": {},
   "outputs": [],
   "source": [
    "from skimage import io\n",
    "import random\n",
    "import os\n",
    "import albumentations as A\n",
    "import cv2\n",
    "import matplotlib.pyplot as plt"
   ]
  },
  {
   "cell_type": "markdown",
   "metadata": {},
   "source": [
    "##### Usefull paths"
   ]
  },
  {
   "cell_type": "code",
   "execution_count": 21,
   "metadata": {},
   "outputs": [],
   "source": [
    "imgs_path = os.path.join('data', 'originals','imgs_Red')\n",
    "masks_path = os.path.join('data', 'originals', 'masks')\n",
    "imgs_resized_path = os.path.join('data', 'originals', 'imgs_resized')\n",
    "masks_resized_path = os.path.join('data', 'originals', 'masks_resized')\n",
    "augmented_imgs_path = os.path.join('data','augmented', 'aug_imgs')\n",
    "augmented_masks_path = os.path.join('data', 'augmented', 'aug_masks')"
   ]
  },
  {
   "cell_type": "code",
   "execution_count": 35,
   "metadata": {},
   "outputs": [],
   "source": [
    "for directory in [augmented_imgs_path, augmented_masks_path]:\n",
    "    for f in os.listdir(directory):\n",
    "        full_path = os.path.join(directory, f)\n",
    "        os.remove(full_path)"
   ]
  },
  {
   "cell_type": "markdown",
   "metadata": {},
   "source": [
    "##### Resize images"
   ]
  },
  {
   "cell_type": "code",
   "execution_count": null,
   "metadata": {},
   "outputs": [],
   "source": [
    "file_index = 0\n",
    "for sat,num in [('L5',20), ('L8',48),('L9',6)]:\n",
    "    for i in range(num):\n",
    "        img = os.path.join(imgs_path, f'{i}_{sat}_R.png')\n",
    "        mask = os.path.join(masks_path, f'{i}_{sat}_mask.png')\n",
    "\n",
    "        if os.path.exists(img) == False or os.path.exists(mask) == False:\n",
    "            continue\n",
    "        \n",
    "        image = cv2.imread(img)\n",
    "        resized_img = image[10:266, 0:256]\n",
    "        cv2.imwrite(os.path.join(imgs_resized_path, f'{file_index}.png'), resized_img)\n",
    "\n",
    "        mask_img = cv2.imread(mask)\n",
    "        resized_mask = mask_img[10:266, 0:256]\n",
    "        cv2.imwrite(os.path.join(masks_resized_path, f'{file_index}.png'), resized_mask)\n",
    "        file_index += 1\n",
    "        "
   ]
  },
  {
   "cell_type": "markdown",
   "metadata": {},
   "source": [
    "### Augmentation by cutting images of 128x128"
   ]
  },
  {
   "cell_type": "code",
   "execution_count": 36,
   "metadata": {},
   "outputs": [],
   "source": [
    "new_size = 200\n",
    "file_index = 0\n",
    "for i in range(55):\n",
    "    img = os.path.join(imgs_resized_path, f'{i}.png')\n",
    "    mask = os.path.join(masks_resized_path, f'{i}.png')\n",
    "\n",
    "    if os.path.exists(img) == False or os.path.exists(mask) == False:\n",
    "        continue\n",
    "    \n",
    "    image = cv2.imread(img)\n",
    "    mask_img = cv2.imread(mask)\n",
    "\n",
    "    row = 0\n",
    "    col = 0\n",
    "\n",
    "    while row < (256 - new_size):\n",
    "        col = 0\n",
    "        while col < (256 - new_size):\n",
    "            cutted_img = image[row:row+new_size, col:col+new_size]\n",
    "            cutted_mask = mask_img[row:row+new_size, col:col+new_size]\n",
    "\n",
    "            cutted_img = cv2.resize(cutted_img, (256, 256))\n",
    "            cutted_mask = cv2.resize(cutted_mask, (256, 256))\n",
    "\n",
    "            cv2.imwrite(os.path.join(augmented_imgs_path, f'{file_index}.png'), cutted_img)\n",
    "            cv2.imwrite(os.path.join(augmented_masks_path, f'{file_index}.png'), cutted_mask)\n",
    "            col += 5\n",
    "            file_index += 1\n",
    "        row += 5\n",
    "\n",
    "\n",
    "        "
   ]
  },
  {
   "cell_type": "markdown",
   "metadata": {},
   "source": [
    "##### Create and save augmented images"
   ]
  },
  {
   "cell_type": "code",
   "execution_count": null,
   "metadata": {},
   "outputs": [],
   "source": [
    "images_to_generate = 75\n",
    "\n",
    "aug = A.Compose([\n",
    "    A.HorizontalFlip(p=0.5),\n",
    "    A.RandomRotate90(p=0.5),\n",
    "    A.Transpose(p=0.5),\n",
    "    A.VerticalFlip(p=0.5),\n",
    "    A.ShiftScaleRotate(shift_limit=0.0625, scale_limit=0.2, rotate_limit=45, p=0.2)\n",
    "])\n",
    "\n",
    "images = []\n",
    "masks = []\n",
    "\n",
    "\n",
    "i = 1\n",
    "file_index = 301\n",
    "num_images = len(os.listdir(imgs_path))\n",
    "while i <= images_to_generate:\n",
    "    number = random.randint(0, num_images - 1)\n",
    "    try:\n",
    "        image = os.path.join(imgs_path, f'{number}_L5_RGB.png')\n",
    "        mask = os.path.join(masks_path, f'{number}_L5_mask.png')\n",
    "        original_image = io.imread(image)\n",
    "        original_mask = io.imread(mask)\n",
    "        \n",
    "        augmented = aug(image=original_image, mask=original_mask)\n",
    "        transformed_image = augmented['image']\n",
    "        transformed_mask = augmented['mask']\n",
    "\n",
    "        new_image_path= \"%s/%s.png\" %(augmented_imgs_path, file_index)\n",
    "        new_mask_path = \"%s/%s.png\" %(augmented_masks_path, file_index)\n",
    "        io.imsave(new_image_path, transformed_image)\n",
    "        io.imsave(new_mask_path, transformed_mask)\n",
    "    except FileNotFoundError:\n",
    "        print(f'File not found: {number}')\n",
    "        continue\n",
    "    i =i+1\n",
    "    file_index += 1"
   ]
  },
  {
   "cell_type": "markdown",
   "metadata": {},
   "source": [
    "**This code has been obtained from [this video](https://www.youtube.com/watch?v=J_XSd_u_Yew&t=359s)"
   ]
  }
 ],
 "metadata": {
  "kernelspec": {
   "display_name": "Python 3",
   "language": "python",
   "name": "python3"
  },
  "language_info": {
   "codemirror_mode": {
    "name": "ipython",
    "version": 3
   },
   "file_extension": ".py",
   "mimetype": "text/x-python",
   "name": "python",
   "nbconvert_exporter": "python",
   "pygments_lexer": "ipython3",
   "version": "3.11.6"
  }
 },
 "nbformat": 4,
 "nbformat_minor": 2
}
