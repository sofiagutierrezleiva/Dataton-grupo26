{
 "cells": [
  {
   "cell_type": "code",
   "execution_count": 2,
   "metadata": {},
   "outputs": [],
   "source": [
    "from skimage import io\n",
    "import random\n",
    "import os\n",
    "import albumentations as A\n",
    "import cv2\n",
    "import matplotlib.pyplot as plt"
   ]
  },
  {
   "cell_type": "markdown",
   "metadata": {},
   "source": [
    "##### Usefull paths"
   ]
  },
  {
   "cell_type": "code",
   "execution_count": 3,
   "metadata": {},
   "outputs": [],
   "source": [
    "imgs_path = os.path.join('data', 'originals','imgs')\n",
    "masks_path = os.path.join('data', 'originals', 'masks')\n",
    "augmented_imgs_path = os.path.join('data','augmented', 'aug_imgs')\n",
    "augmented_masks_path = os.path.join('data', 'augmented', 'aug_masks')"
   ]
  },
  {
   "cell_type": "markdown",
   "metadata": {},
   "source": [
    "##### Resize images"
   ]
  },
  {
   "cell_type": "code",
   "execution_count": 11,
   "metadata": {},
   "outputs": [],
   "source": [
    "# Tamaño deseado para las imágenes\n",
    "desired_width = 256\n",
    "desired_height = 256\n",
    "\n",
    "# Iterar sobre todas las imágenes en el directorio de entrada\n",
    "for img in os.listdir(imgs_path):\n",
    "    if img.endswith('.png') or img.endswith('.jpeg'):\n",
    "        # Leer la imagen\n",
    "        image = io.imread(os.path.join(imgs_path, img))\n",
    "        resized_img = cv2.resize(image, (desired_width, desired_height))\n",
    "        cv2.imwrite(os.path.join(imgs_path, img), resized_img)\n",
    "\n",
    "# Iterar sobre todas las máscaras en el directorio de entrada\n",
    "for mask in os.listdir(masks_path):\n",
    "    if mask.endswith('.png') or mask.endswith('.jpeg'):\n",
    "        # Leer la máscara\n",
    "        mask_img = io.imread(os.path.join(masks_path, mask))\n",
    "        resized_mask = cv2.resize(mask_img, (desired_width, desired_height))\n",
    "        cv2.imwrite(os.path.join(masks_path, mask), resized_mask)\n",
    "    "
   ]
  },
  {
   "cell_type": "markdown",
   "metadata": {},
   "source": [
    "##### Create and save augmented images"
   ]
  },
  {
   "cell_type": "code",
   "execution_count": 12,
   "metadata": {},
   "outputs": [],
   "source": [
    "images_to_generate = 30\n",
    "\n",
    "aug = A.Compose([\n",
    "    A.HorizontalFlip(p=0.5),\n",
    "    A.Rotate90(p=0.5),\n",
    "    A.Rotate180(p=0.5),\n",
    "    A.Rotate270(p=0.5),\n",
    "    A.Transpose(p=0.5),\n",
    "    A.VerticalFlip(p=0.5),\n",
    "    A.ShiftScaleRotate(shift_limit=0.0625, scale_limit=0.2, rotate_limit=45, p=0.2)\n",
    "])\n",
    "\n",
    "images = []\n",
    "masks = []\n",
    "\n",
    "\n",
    "i = 1\n",
    "num_images = len(os.listdir(imgs_path))\n",
    "while i <= images_to_generate:\n",
    "    number = random.randint(0, num_images - 1)\n",
    "    try:\n",
    "        image = os.path.join(imgs_path, f'{number}_RGB.png')\n",
    "        mask = os.path.join(masks_path, f'{number}_mask.png')\n",
    "        original_image = io.imread(image)\n",
    "        original_mask = io.imread(mask)\n",
    "        \n",
    "        augmented = aug(image=original_image, mask=original_mask)\n",
    "        transformed_image = augmented['image']\n",
    "        transformed_mask = augmented['mask']\n",
    "\n",
    "        new_image_path= \"%s/%s.png\" %(augmented_imgs_path, i)\n",
    "        new_mask_path = \"%s/%s.png\" %(augmented_masks_path, i)\n",
    "        io.imsave(new_image_path, transformed_image)\n",
    "        io.imsave(new_mask_path, transformed_mask)\n",
    "    except FileNotFoundError:\n",
    "        continue\n",
    "    i =i+1"
   ]
  },
  {
   "cell_type": "markdown",
   "metadata": {},
   "source": [
    "**This code has been obtained from [this video](https://www.youtube.com/watch?v=J_XSd_u_Yew&t=359s)"
   ]
  }
 ],
 "metadata": {
  "kernelspec": {
   "display_name": "Python 3",
   "language": "python",
   "name": "python3"
  },
  "language_info": {
   "codemirror_mode": {
    "name": "ipython",
    "version": 3
   },
   "file_extension": ".py",
   "mimetype": "text/x-python",
   "name": "python",
   "nbconvert_exporter": "python",
   "pygments_lexer": "ipython3",
   "version": "3.11.6"
  }
 },
 "nbformat": 4,
 "nbformat_minor": 2
}
