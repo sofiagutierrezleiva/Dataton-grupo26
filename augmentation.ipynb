{
 "cells": [
  {
   "cell_type": "code",
   "execution_count": 9,
   "metadata": {},
   "outputs": [],
   "source": [
    "from skimage import io\n",
    "import random\n",
    "import os\n",
    "import albumentations as A\n",
    "import cv2\n",
    "import matplotlib.pyplot as plt"
   ]
  },
  {
   "cell_type": "markdown",
   "metadata": {},
   "source": [
    "##### Usefull paths"
   ]
  },
  {
   "cell_type": "code",
   "execution_count": 14,
   "metadata": {},
   "outputs": [],
   "source": [
    "imgs_path = os.path.join('data', 'originals','imgs')\n",
    "masks_path = os.path.join('data', 'originals', 'masks')\n",
    "imgs_resized_path = os.path.join('data', 'originals', 'imgs_resized')\n",
    "masks_resized_path = os.path.join('data', 'originals', 'masks_resized')\n",
    "augmented_imgs_path = os.path.join('data','augmented', 'aug_imgs')\n",
    "augmented_masks_path = os.path.join('data', 'augmented', 'aug_masks')"
   ]
  },
  {
   "cell_type": "code",
   "execution_count": 8,
   "metadata": {},
   "outputs": [],
   "source": [
    "for directory in [augmented_imgs_path, augmented_masks_path, imgs_path, masks_path]:\n",
    "    for f in os.listdir(directory):\n",
    "        full_path = os.path.join(directory, f)\n",
    "        os.remove(full_path)"
   ]
  },
  {
   "cell_type": "markdown",
   "metadata": {},
   "source": [
    "##### Resize images"
   ]
  },
  {
   "cell_type": "code",
   "execution_count": 15,
   "metadata": {},
   "outputs": [],
   "source": [
    "# Tamaño deseado para las imágenes\n",
    "desired_width = 256\n",
    "desired_height = 256\n",
    "\n",
    "# Iterar sobre todas las imágenes en el directorio de entrada\n",
    "for img in os.listdir(imgs_path):\n",
    "    if img.endswith('.png') or img.endswith('.jpeg'):\n",
    "        # Leer la imagen\n",
    "        image = cv2.imread(os.path.join(imgs_path, img))\n",
    "        image_rgb = cv2.cvtColor(image, cv2.COLOR_BGR2RGB)\n",
    "        resized_img = image[10:266, 0:256]\n",
    "        cv2.imwrite(os.path.join(imgs_resized_path, img), resized_img)\n",
    "\n",
    "# Iterar sobre todas las máscaras en el directorio de entrada\n",
    "for mask in os.listdir(masks_path):\n",
    "    if mask.endswith('.png') or mask.endswith('.jpeg'):\n",
    "        # Leer la máscara\n",
    "        mask_img = cv2.imread(os.path.join(masks_path, mask))\n",
    "        image_rgb = cv2.cvtColor(mask_img, cv2.COLOR_BGR2RGB)\n",
    "        resized_mask = cv2.resize(mask_img, (desired_width, desired_height))\n",
    "        cv2.imwrite(os.path.join(masks_resized_path, mask), resized_mask)\n",
    "    else:\n",
    "        print(mask)\n",
    "    "
   ]
  },
  {
   "cell_type": "code",
   "execution_count": 18,
   "metadata": {},
   "outputs": [
    {
     "name": "stderr",
     "output_type": "stream",
     "text": [
      "[ WARN:0@3216.586] global loadsave.cpp:248 findDecoder imread_('data/originals/imgs/L5_0_RGB.png'): can't open/read file: check file path/integrity\n"
     ]
    },
    {
     "ename": "error",
     "evalue": "OpenCV(4.9.0) /Users/xperience/GHA-OpenCV-Python2/_work/opencv-python/opencv-python/opencv/modules/imgproc/src/color.cpp:196: error: (-215:Assertion failed) !_src.empty() in function 'cvtColor'\n",
     "output_type": "error",
     "traceback": [
      "\u001b[0;31m---------------------------------------------------------------------------\u001b[0m",
      "\u001b[0;31merror\u001b[0m                                     Traceback (most recent call last)",
      "Cell \u001b[0;32mIn[18], line 9\u001b[0m\n\u001b[1;32m      6\u001b[0m mask \u001b[38;5;241m=\u001b[39m os\u001b[38;5;241m.\u001b[39mpath\u001b[38;5;241m.\u001b[39mjoin(masks_path, \u001b[38;5;124mf\u001b[39m\u001b[38;5;124m'\u001b[39m\u001b[38;5;132;01m{\u001b[39;00msat\u001b[38;5;132;01m}\u001b[39;00m\u001b[38;5;124m_\u001b[39m\u001b[38;5;132;01m{\u001b[39;00mi\u001b[38;5;132;01m}\u001b[39;00m\u001b[38;5;124m_mask.png\u001b[39m\u001b[38;5;124m'\u001b[39m)\n\u001b[1;32m      8\u001b[0m image \u001b[38;5;241m=\u001b[39m cv2\u001b[38;5;241m.\u001b[39mimread(img)\n\u001b[0;32m----> 9\u001b[0m image_rgb \u001b[38;5;241m=\u001b[39m \u001b[43mcv2\u001b[49m\u001b[38;5;241;43m.\u001b[39;49m\u001b[43mcvtColor\u001b[49m\u001b[43m(\u001b[49m\u001b[43mimage\u001b[49m\u001b[43m,\u001b[49m\u001b[43m \u001b[49m\u001b[43mcv2\u001b[49m\u001b[38;5;241;43m.\u001b[39;49m\u001b[43mCOLOR_BGR2RGB\u001b[49m\u001b[43m)\u001b[49m\n\u001b[1;32m     10\u001b[0m resized_img \u001b[38;5;241m=\u001b[39m image[\u001b[38;5;241m10\u001b[39m:\u001b[38;5;241m266\u001b[39m, \u001b[38;5;241m0\u001b[39m:\u001b[38;5;241m256\u001b[39m]\n\u001b[1;32m     11\u001b[0m cv2\u001b[38;5;241m.\u001b[39mimwrite(os\u001b[38;5;241m.\u001b[39mpath\u001b[38;5;241m.\u001b[39mjoin(imgs_resized_path, \u001b[38;5;124mf\u001b[39m\u001b[38;5;124m'\u001b[39m\u001b[38;5;132;01m{\u001b[39;00mfile_index\u001b[38;5;132;01m}\u001b[39;00m\u001b[38;5;124m.png\u001b[39m\u001b[38;5;124m'\u001b[39m), resized_img)\n",
      "\u001b[0;31merror\u001b[0m: OpenCV(4.9.0) /Users/xperience/GHA-OpenCV-Python2/_work/opencv-python/opencv-python/opencv/modules/imgproc/src/color.cpp:196: error: (-215:Assertion failed) !_src.empty() in function 'cvtColor'\n"
     ]
    }
   ],
   "source": [
    "file_index = 0\n",
    "for sat,num in [('L5',20), ('L8',48),('L9',6)]:\n",
    "    for i in range(num):\n",
    "        try:\n",
    "            img = os.path.join(imgs_path, f'{sat}_{i}_RGB.png')\n",
    "            mask = os.path.join(masks_path, f'{sat}_{i}_mask.png')\n",
    "\n",
    "            image = cv2.imread(img)\n",
    "            image_rgb = cv2.cvtColor(image, cv2.COLOR_BGR2RGB)\n",
    "            resized_img = image[10:266, 0:256]\n",
    "            cv2.imwrite(os.path.join(imgs_resized_path, f'{file_index}.png'), resized_img)\n",
    "            print(image)\n",
    "            mask_img = cv2.imread(mask)\n",
    "            image_rgb = cv2.cvtColor(mask_img, cv2.COLOR_BGR2RGB)\n",
    "            resized_mask = cv2.resize(mask_img, (desired_width, desired_height))\n",
    "            cv2.imwrite(os.path.join(masks_resized_path, f'{file_index}.png'), resized_mask)\n",
    "            print(mask_img)\n",
    "            file_index += 1\n",
    "        except FileNotFoundError:\n",
    "            continue\n",
    "        "
   ]
  },
  {
   "cell_type": "markdown",
   "metadata": {},
   "source": [
    "##### Create and save augmented images"
   ]
  },
  {
   "cell_type": "code",
   "execution_count": null,
   "metadata": {},
   "outputs": [],
   "source": [
    "images_to_generate = 75\n",
    "\n",
    "aug = A.Compose([\n",
    "    A.HorizontalFlip(p=0.5),\n",
    "    A.RandomRotate90(p=0.5),\n",
    "    A.Transpose(p=0.5),\n",
    "    A.VerticalFlip(p=0.5),\n",
    "    A.ShiftScaleRotate(shift_limit=0.0625, scale_limit=0.2, rotate_limit=45, p=0.2)\n",
    "])\n",
    "\n",
    "images = []\n",
    "masks = []\n",
    "\n",
    "\n",
    "i = 1\n",
    "file_index = 301\n",
    "num_images = len(os.listdir(imgs_path))\n",
    "while i <= images_to_generate:\n",
    "    number = random.randint(0, num_images - 1)\n",
    "    try:\n",
    "        image = os.path.join(imgs_path, f'{number}_L5_RGB.png')\n",
    "        mask = os.path.join(masks_path, f'{number}_L5_mask.png')\n",
    "        original_image = io.imread(image)\n",
    "        original_mask = io.imread(mask)\n",
    "        \n",
    "        augmented = aug(image=original_image, mask=original_mask)\n",
    "        transformed_image = augmented['image']\n",
    "        transformed_mask = augmented['mask']\n",
    "\n",
    "        new_image_path= \"%s/%s.png\" %(augmented_imgs_path, file_index)\n",
    "        new_mask_path = \"%s/%s.png\" %(augmented_masks_path, file_index)\n",
    "        io.imsave(new_image_path, transformed_image)\n",
    "        io.imsave(new_mask_path, transformed_mask)\n",
    "    except FileNotFoundError:\n",
    "        print(f'File not found: {number}')\n",
    "        continue\n",
    "    i =i+1\n",
    "    file_index += 1"
   ]
  },
  {
   "cell_type": "markdown",
   "metadata": {},
   "source": [
    "**This code has been obtained from [this video](https://www.youtube.com/watch?v=J_XSd_u_Yew&t=359s)"
   ]
  }
 ],
 "metadata": {
  "kernelspec": {
   "display_name": "Python 3",
   "language": "python",
   "name": "python3"
  },
  "language_info": {
   "codemirror_mode": {
    "name": "ipython",
    "version": 3
   },
   "file_extension": ".py",
   "mimetype": "text/x-python",
   "name": "python",
   "nbconvert_exporter": "python",
   "pygments_lexer": "ipython3",
   "version": "3.11.6"
  }
 },
 "nbformat": 4,
 "nbformat_minor": 2
}
